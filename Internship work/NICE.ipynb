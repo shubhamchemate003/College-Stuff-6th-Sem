{
 "cells": [
  {
   "cell_type": "code",
   "execution_count": 3,
   "id": "ebbfe387",
   "metadata": {},
   "outputs": [],
   "source": [
    "#Importing Required Libraries\n",
    "import pandas as pd\n",
    "import numpy as np\n",
    "from sklearn import linear_model\n",
    "import seaborn as sns\n",
    "import matplotlib.pyplot as plt\n",
    "%matplotlib inline\n",
    "from word2number import w2n\n",
    "import scipy.stats as stats\n",
    "import pylab"
   ]
  },
  {
   "cell_type": "code",
   "execution_count": 27,
   "id": "aa02601c",
   "metadata": {},
   "outputs": [],
   "source": [
    "df=pd.read_csv('Sample1.csv')"
   ]
  },
  {
   "cell_type": "code",
   "execution_count": 3,
   "id": "5aef00d0",
   "metadata": {},
   "outputs": [],
   "source": [
    "l=df.shape\n",
    "rows=l[0]\n",
    "col=l[1]"
   ]
  },
  {
   "cell_type": "code",
   "execution_count": 4,
   "id": "3b48abb9",
   "metadata": {},
   "outputs": [
    {
     "data": {
      "text/plain": [
       "RULE_ID       object\n",
       "Avg Value      int64\n",
       "Threshhold     int64\n",
       "ALERT_ID      object\n",
       "Score          int64\n",
       "dtype: object"
      ]
     },
     "execution_count": 4,
     "metadata": {},
     "output_type": "execute_result"
    }
   ],
   "source": [
    "df.dtypes"
   ]
  },
  {
   "cell_type": "code",
   "execution_count": 5,
   "id": "4c6f7f88",
   "metadata": {},
   "outputs": [
    {
     "name": "stdout",
     "output_type": "stream",
     "text": [
      "7\n",
      "9\n",
      "11\n",
      "8\n",
      "12\n",
      "13\n",
      "12\n",
      "12\n",
      "17\n",
      "17\n",
      "19\n",
      "19\n",
      "19\n",
      "7\n",
      "9\n",
      "11\n",
      "8\n",
      "12\n",
      "13\n",
      "12\n",
      "12\n",
      "17\n",
      "17\n",
      "19\n",
      "19\n",
      "19\n",
      "7\n",
      "9\n",
      "11\n",
      "8\n",
      "12\n",
      "13\n",
      "12\n",
      "12\n",
      "17\n",
      "17\n",
      "19\n",
      "19\n",
      "19\n"
     ]
    }
   ],
   "source": [
    "\n",
    "df1=df['Threshhold']\n",
    "df2=df['Avg Value']\n",
    "d=0\n",
    "j=60\n",
    "k=30\n",
    "l=[]\n",
    "for i in range(rows):\n",
    "    d=int(df1[i])-int(df2[i])\n",
    "    print(d)\n",
    "    if d>9:\n",
    "        l.insert(i,(d*5))\n",
    "    else:\n",
    "        l.insert(i,(d*5))\n",
    "        \n",
    "df['Score'] =l"
   ]
  },
  {
   "cell_type": "code",
   "execution_count": 6,
   "id": "e6837382",
   "metadata": {},
   "outputs": [
    {
     "data": {
      "text/plain": [
       "'RULE_ID,Avg Value,Threshhold,ALERT_ID,Score\\r\\nAML-EBB-IFT-ALL-A-D05-EOP,3,10,SAM1-1,35\\r\\nAML-EFC-NEW-ACT-A-001-CVA,2,11,SAM1-1,45\\r\\nAML-EFC-NEW-ACT-A-001-CVA,1,12,SAM1-1,55\\r\\nAML-TSD-EFT-ALL-A-S01-FSI,5,13,SAM1-1,40\\r\\nAML-EFC-RSK-LVL-A-039-CVA,2,14,SAM1-1,60\\r\\nAML-ULN-LNP-INN-A-LNB-DEL,2,15,SAM1-1,65\\r\\nAML-SUS-SUR-FRE-A-M12-FRA,4,16,SAM1-1,60\\r\\nAML-SRD-SIN-ALL-A-S01-CTY,5,17,SAM1-1,60\\r\\nAML-OLN-LNP-INN-A-S01-DET,1,18,SAM1-1,85\\r\\nAML-SIM-OSI-000-A-D30-MLA,2,19,SAM1-1,85\\r\\nAML-TSD-EFT-ALL-A-S01-FSI,1,20,SAM1-1,95\\r\\nAML-EFC-RSK-CTY-A-008-CLA,2,21,SAM1-1,95\\r\\nAML-TSD-EFT-ALL-A-S01-FSI,3,22,SAM1-1,95\\r\\nAML-EBB-IFT-ALL-A-D05-EOP,3,10,SAM1-2,35\\r\\nAML-EFC-NEW-ACT-A-001-CVA,2,11,SAM1-2,45\\r\\nAML-EFC-NEW-ACT-A-001-CVA,1,12,SAM1-2,55\\r\\nAML-TSD-EFT-ALL-A-S01-FSI,5,13,SAM1-2,40\\r\\nAML-EFC-RSK-LVL-A-039-CVA,2,14,SAM1-2,60\\r\\nAML-ULN-LNP-INN-A-LNB-DEL,2,15,SAM1-2,65\\r\\nAML-SUS-SUR-FRE-A-M12-FRA,4,16,SAM1-2,60\\r\\nAML-SRD-SIN-ALL-A-S01-CTY,5,17,SAM1-2,60\\r\\nAML-OLN-LNP-INN-A-S01-DET,1,18,SAM1-2,85\\r\\nAML-SIM-OSI-000-A-D30-MLA,2,19,SAM1-2,85\\r\\nAML-TSD-EFT-ALL-A-S01-FSI,1,20,SAM1-2,95\\r\\nAML-OLN-LNP-INN-A-S01-DEF,2,21,SAM1-2,95\\r\\nAML-SIM-OSI-000-A-D30-MAN,3,22,SAM1-2,95\\r\\nAML-EBB-IFT-ALL-A-D05-EOP,3,10,SAM1-3,35\\r\\nAML-EFC-NEW-ACT-A-001-CVA,2,11,SAM1-3,45\\r\\nAML-EFC-NEW-ACT-A-001-CVA,1,12,SAM1-3,55\\r\\nAML-TSD-EFT-ALL-A-S01-FSI,5,13,SAM1-3,40\\r\\nAML-TSD-EFT-ALL-A-S01-FSI,2,14,SAM1-3,60\\r\\nAML-EFC-RSK-LVL-A-039-CVA,2,15,SAM1-3,65\\r\\nAML-ULN-LNP-INN-A-LNB-DEL,4,16,SAM1-3,60\\r\\nAML-SUS-SUR-FRE-A-M12-FRA,5,17,SAM1-3,60\\r\\nAML-SRD-SIN-ALL-A-S01-CTY,1,18,SAM1-3,85\\r\\nAML-OLN-LNP-INN-A-S01-DET,2,19,SAM1-3,85\\r\\nAML-SIM-OSI-000-A-D30-MLA,1,20,SAM1-3,95\\r\\nAML-TSD-EFT-ALL-A-S01-FSI,2,21,SAM1-3,95\\r\\nAML-EFC-RSK-CTY-A-008-CLA,3,22,SAM1-3,95\\r\\n'"
      ]
     },
     "execution_count": 6,
     "metadata": {},
     "output_type": "execute_result"
    }
   ],
   "source": [
    "df['Score']\n",
    "df.to_csv(index=False)"
   ]
  },
  {
   "cell_type": "code",
   "execution_count": 7,
   "id": "a83a43b1",
   "metadata": {},
   "outputs": [
    {
     "name": "stdout",
     "output_type": "stream",
     "text": [
      "0     35\n",
      "1     45\n",
      "2     55\n",
      "3     40\n",
      "4     60\n",
      "5     65\n",
      "6     60\n",
      "7     60\n",
      "8     85\n",
      "9     85\n",
      "10    95\n",
      "11    95\n",
      "12    95\n",
      "13    35\n",
      "14    45\n",
      "15    55\n",
      "16    40\n",
      "17    60\n",
      "18    65\n",
      "19    60\n",
      "20    60\n",
      "21    85\n",
      "22    85\n",
      "23    95\n",
      "24    95\n",
      "25    95\n",
      "26    35\n",
      "27    45\n",
      "28    55\n",
      "29    40\n",
      "30    60\n",
      "31    65\n",
      "32    60\n",
      "33    60\n",
      "34    85\n",
      "35    85\n",
      "36    95\n",
      "37    95\n",
      "38    95\n",
      "Name: Score, dtype: int64\n"
     ]
    }
   ],
   "source": [
    "print(df['Score'])"
   ]
  },
  {
   "cell_type": "code",
   "execution_count": 8,
   "id": "03d02d04",
   "metadata": {},
   "outputs": [
    {
     "data": {
      "text/plain": [
       "67.3076923076923"
      ]
     },
     "execution_count": 8,
     "metadata": {},
     "output_type": "execute_result"
    }
   ],
   "source": [
    "df['Score'].mean()"
   ]
  },
  {
   "cell_type": "code",
   "execution_count": 9,
   "id": "31e8eb64",
   "metadata": {},
   "outputs": [
    {
     "data": {
      "text/plain": [
       "'AML-EBB-IFT-ALL-A-D05-EOP'"
      ]
     },
     "execution_count": 9,
     "metadata": {},
     "output_type": "execute_result"
    }
   ],
   "source": [
    "df['RULE_ID'][0]"
   ]
  },
  {
   "cell_type": "code",
   "execution_count": 10,
   "id": "1224a956",
   "metadata": {},
   "outputs": [],
   "source": [
    "df1=df[df['ALERT_ID']=='SAM1-1']['RULE_ID']\n",
    "df2=df[df['ALERT_ID']=='SAM1-2']['RULE_ID']"
   ]
  },
  {
   "cell_type": "code",
   "execution_count": 11,
   "id": "aacf022e",
   "metadata": {},
   "outputs": [
    {
     "data": {
      "text/plain": [
       "0     AML-EBB-IFT-ALL-A-D05-EOP\n",
       "1     AML-EFC-NEW-ACT-A-001-CVA\n",
       "2     AML-EFC-NEW-ACT-A-001-CVA\n",
       "3     AML-TSD-EFT-ALL-A-S01-FSI\n",
       "4     AML-EFC-RSK-LVL-A-039-CVA\n",
       "5     AML-ULN-LNP-INN-A-LNB-DEL\n",
       "6     AML-SUS-SUR-FRE-A-M12-FRA\n",
       "7     AML-SRD-SIN-ALL-A-S01-CTY\n",
       "8     AML-OLN-LNP-INN-A-S01-DET\n",
       "9     AML-SIM-OSI-000-A-D30-MLA\n",
       "10    AML-TSD-EFT-ALL-A-S01-FSI\n",
       "11    AML-EFC-RSK-CTY-A-008-CLA\n",
       "12    AML-TSD-EFT-ALL-A-S01-FSI\n",
       "Name: RULE_ID, dtype: object"
      ]
     },
     "execution_count": 11,
     "metadata": {},
     "output_type": "execute_result"
    }
   ],
   "source": [
    "df1"
   ]
  },
  {
   "cell_type": "code",
   "execution_count": 12,
   "id": "2c3afff5",
   "metadata": {},
   "outputs": [
    {
     "data": {
      "text/plain": [
       "13    AML-EBB-IFT-ALL-A-D05-EOP\n",
       "14    AML-EFC-NEW-ACT-A-001-CVA\n",
       "15    AML-EFC-NEW-ACT-A-001-CVA\n",
       "16    AML-TSD-EFT-ALL-A-S01-FSI\n",
       "17    AML-EFC-RSK-LVL-A-039-CVA\n",
       "18    AML-ULN-LNP-INN-A-LNB-DEL\n",
       "19    AML-SUS-SUR-FRE-A-M12-FRA\n",
       "20    AML-SRD-SIN-ALL-A-S01-CTY\n",
       "21    AML-OLN-LNP-INN-A-S01-DET\n",
       "22    AML-SIM-OSI-000-A-D30-MLA\n",
       "23    AML-TSD-EFT-ALL-A-S01-FSI\n",
       "24    AML-OLN-LNP-INN-A-S01-DEF\n",
       "25    AML-SIM-OSI-000-A-D30-MAN\n",
       "Name: RULE_ID, dtype: object"
      ]
     },
     "execution_count": 12,
     "metadata": {},
     "output_type": "execute_result"
    }
   ],
   "source": [
    "df2"
   ]
  },
  {
   "cell_type": "code",
   "execution_count": 13,
   "id": "e71d5920",
   "metadata": {},
   "outputs": [
    {
     "data": {
      "text/plain": [
       "11"
      ]
     },
     "execution_count": 13,
     "metadata": {},
     "output_type": "execute_result"
    }
   ],
   "source": [
    "count=0\n",
    "for i in range(13):\n",
    "    if(df1[i]==df2[i+13]):\n",
    "        count+=1\n",
    "count"
   ]
  },
  {
   "cell_type": "code",
   "execution_count": 14,
   "id": "4dbf9d2d",
   "metadata": {},
   "outputs": [
    {
     "data": {
      "text/plain": [
       "13"
      ]
     },
     "execution_count": 14,
     "metadata": {},
     "output_type": "execute_result"
    }
   ],
   "source": [
    "df[df['ALERT_ID']=='SAM1-2']['RULE_ID'].count()"
   ]
  },
  {
   "cell_type": "code",
   "execution_count": 15,
   "id": "7e31dc3f",
   "metadata": {},
   "outputs": [
    {
     "data": {
      "text/plain": [
       "0.8461538461538461"
      ]
     },
     "execution_count": 15,
     "metadata": {},
     "output_type": "execute_result"
    }
   ],
   "source": [
    "11/13"
   ]
  },
  {
   "cell_type": "code",
   "execution_count": 16,
   "id": "d9280fa0",
   "metadata": {},
   "outputs": [],
   "source": [
    "df1=df[df['ALERT_ID']=='SAM1-1']['RULE_ID']\n",
    "df3=df[df['ALERT_ID']=='SAM1-3']['RULE_ID']"
   ]
  },
  {
   "cell_type": "code",
   "execution_count": 17,
   "id": "fdbc9e00",
   "metadata": {},
   "outputs": [
    {
     "data": {
      "text/plain": [
       "0     AML-EBB-IFT-ALL-A-D05-EOP\n",
       "1     AML-EFC-NEW-ACT-A-001-CVA\n",
       "2     AML-EFC-NEW-ACT-A-001-CVA\n",
       "3     AML-TSD-EFT-ALL-A-S01-FSI\n",
       "4     AML-EFC-RSK-LVL-A-039-CVA\n",
       "5     AML-ULN-LNP-INN-A-LNB-DEL\n",
       "6     AML-SUS-SUR-FRE-A-M12-FRA\n",
       "7     AML-SRD-SIN-ALL-A-S01-CTY\n",
       "8     AML-OLN-LNP-INN-A-S01-DET\n",
       "9     AML-SIM-OSI-000-A-D30-MLA\n",
       "10    AML-TSD-EFT-ALL-A-S01-FSI\n",
       "11    AML-EFC-RSK-CTY-A-008-CLA\n",
       "12    AML-TSD-EFT-ALL-A-S01-FSI\n",
       "Name: RULE_ID, dtype: object"
      ]
     },
     "execution_count": 17,
     "metadata": {},
     "output_type": "execute_result"
    }
   ],
   "source": [
    "df1"
   ]
  },
  {
   "cell_type": "code",
   "execution_count": 18,
   "id": "7fa55b6c",
   "metadata": {},
   "outputs": [
    {
     "data": {
      "text/plain": [
       "26    AML-EBB-IFT-ALL-A-D05-EOP\n",
       "27    AML-EFC-NEW-ACT-A-001-CVA\n",
       "28    AML-EFC-NEW-ACT-A-001-CVA\n",
       "29    AML-TSD-EFT-ALL-A-S01-FSI\n",
       "30    AML-TSD-EFT-ALL-A-S01-FSI\n",
       "31    AML-EFC-RSK-LVL-A-039-CVA\n",
       "32    AML-ULN-LNP-INN-A-LNB-DEL\n",
       "33    AML-SUS-SUR-FRE-A-M12-FRA\n",
       "34    AML-SRD-SIN-ALL-A-S01-CTY\n",
       "35    AML-OLN-LNP-INN-A-S01-DET\n",
       "36    AML-SIM-OSI-000-A-D30-MLA\n",
       "37    AML-TSD-EFT-ALL-A-S01-FSI\n",
       "38    AML-EFC-RSK-CTY-A-008-CLA\n",
       "Name: RULE_ID, dtype: object"
      ]
     },
     "execution_count": 18,
     "metadata": {},
     "output_type": "execute_result"
    }
   ],
   "source": [
    "df3"
   ]
  },
  {
   "cell_type": "code",
   "execution_count": 19,
   "id": "db69f279",
   "metadata": {},
   "outputs": [
    {
     "data": {
      "text/plain": [
       "4"
      ]
     },
     "execution_count": 19,
     "metadata": {},
     "output_type": "execute_result"
    }
   ],
   "source": [
    "count1=0\n",
    "for i in range(13):\n",
    "    if(df1[i]==df3[i+26]):\n",
    "        count1+=1\n",
    "count1"
   ]
  },
  {
   "cell_type": "code",
   "execution_count": 20,
   "id": "72b07328",
   "metadata": {},
   "outputs": [
    {
     "data": {
      "text/plain": [
       "13"
      ]
     },
     "execution_count": 20,
     "metadata": {},
     "output_type": "execute_result"
    }
   ],
   "source": [
    "df3.count()"
   ]
  },
  {
   "cell_type": "code",
   "execution_count": 21,
   "id": "6da99e3f",
   "metadata": {},
   "outputs": [
    {
     "data": {
      "text/plain": [
       "0.3076923076923077"
      ]
     },
     "execution_count": 21,
     "metadata": {},
     "output_type": "execute_result"
    }
   ],
   "source": [
    "4/13"
   ]
  },
  {
   "cell_type": "code",
   "execution_count": 22,
   "id": "1c388c10",
   "metadata": {},
   "outputs": [],
   "source": [
    "# So conclusion is that we can go with Sam1-2"
   ]
  },
  {
   "cell_type": "code",
   "execution_count": 23,
   "id": "9aa988a0",
   "metadata": {},
   "outputs": [
    {
     "data": {
      "text/html": [
       "<div>\n",
       "<style scoped>\n",
       "    .dataframe tbody tr th:only-of-type {\n",
       "        vertical-align: middle;\n",
       "    }\n",
       "\n",
       "    .dataframe tbody tr th {\n",
       "        vertical-align: top;\n",
       "    }\n",
       "\n",
       "    .dataframe thead th {\n",
       "        text-align: right;\n",
       "    }\n",
       "</style>\n",
       "<table border=\"1\" class=\"dataframe\">\n",
       "  <thead>\n",
       "    <tr style=\"text-align: right;\">\n",
       "      <th></th>\n",
       "      <th>RULE_ID</th>\n",
       "      <th>Avg Value</th>\n",
       "      <th>Threshhold</th>\n",
       "      <th>ALERT_ID</th>\n",
       "      <th>Score</th>\n",
       "    </tr>\n",
       "  </thead>\n",
       "  <tbody>\n",
       "    <tr>\n",
       "      <th>0</th>\n",
       "      <td>AML-EBB-IFT-ALL-A-D05-EOP</td>\n",
       "      <td>3</td>\n",
       "      <td>10</td>\n",
       "      <td>SAM1-1</td>\n",
       "      <td>35</td>\n",
       "    </tr>\n",
       "    <tr>\n",
       "      <th>1</th>\n",
       "      <td>AML-EFC-NEW-ACT-A-001-CVA</td>\n",
       "      <td>2</td>\n",
       "      <td>11</td>\n",
       "      <td>SAM1-1</td>\n",
       "      <td>45</td>\n",
       "    </tr>\n",
       "    <tr>\n",
       "      <th>2</th>\n",
       "      <td>AML-EFC-NEW-ACT-A-001-CVA</td>\n",
       "      <td>1</td>\n",
       "      <td>12</td>\n",
       "      <td>SAM1-1</td>\n",
       "      <td>55</td>\n",
       "    </tr>\n",
       "    <tr>\n",
       "      <th>3</th>\n",
       "      <td>AML-TSD-EFT-ALL-A-S01-FSI</td>\n",
       "      <td>5</td>\n",
       "      <td>13</td>\n",
       "      <td>SAM1-1</td>\n",
       "      <td>40</td>\n",
       "    </tr>\n",
       "    <tr>\n",
       "      <th>4</th>\n",
       "      <td>AML-EFC-RSK-LVL-A-039-CVA</td>\n",
       "      <td>2</td>\n",
       "      <td>14</td>\n",
       "      <td>SAM1-1</td>\n",
       "      <td>60</td>\n",
       "    </tr>\n",
       "    <tr>\n",
       "      <th>5</th>\n",
       "      <td>AML-ULN-LNP-INN-A-LNB-DEL</td>\n",
       "      <td>2</td>\n",
       "      <td>15</td>\n",
       "      <td>SAM1-1</td>\n",
       "      <td>65</td>\n",
       "    </tr>\n",
       "    <tr>\n",
       "      <th>6</th>\n",
       "      <td>AML-SUS-SUR-FRE-A-M12-FRA</td>\n",
       "      <td>4</td>\n",
       "      <td>16</td>\n",
       "      <td>SAM1-1</td>\n",
       "      <td>60</td>\n",
       "    </tr>\n",
       "    <tr>\n",
       "      <th>7</th>\n",
       "      <td>AML-SRD-SIN-ALL-A-S01-CTY</td>\n",
       "      <td>5</td>\n",
       "      <td>17</td>\n",
       "      <td>SAM1-1</td>\n",
       "      <td>60</td>\n",
       "    </tr>\n",
       "    <tr>\n",
       "      <th>8</th>\n",
       "      <td>AML-OLN-LNP-INN-A-S01-DET</td>\n",
       "      <td>1</td>\n",
       "      <td>18</td>\n",
       "      <td>SAM1-1</td>\n",
       "      <td>85</td>\n",
       "    </tr>\n",
       "    <tr>\n",
       "      <th>9</th>\n",
       "      <td>AML-SIM-OSI-000-A-D30-MLA</td>\n",
       "      <td>2</td>\n",
       "      <td>19</td>\n",
       "      <td>SAM1-1</td>\n",
       "      <td>85</td>\n",
       "    </tr>\n",
       "    <tr>\n",
       "      <th>10</th>\n",
       "      <td>AML-TSD-EFT-ALL-A-S01-FSI</td>\n",
       "      <td>1</td>\n",
       "      <td>20</td>\n",
       "      <td>SAM1-1</td>\n",
       "      <td>95</td>\n",
       "    </tr>\n",
       "    <tr>\n",
       "      <th>11</th>\n",
       "      <td>AML-EFC-RSK-CTY-A-008-CLA</td>\n",
       "      <td>2</td>\n",
       "      <td>21</td>\n",
       "      <td>SAM1-1</td>\n",
       "      <td>95</td>\n",
       "    </tr>\n",
       "    <tr>\n",
       "      <th>12</th>\n",
       "      <td>AML-TSD-EFT-ALL-A-S01-FSI</td>\n",
       "      <td>3</td>\n",
       "      <td>22</td>\n",
       "      <td>SAM1-1</td>\n",
       "      <td>95</td>\n",
       "    </tr>\n",
       "    <tr>\n",
       "      <th>13</th>\n",
       "      <td>AML-EBB-IFT-ALL-A-D05-EOP</td>\n",
       "      <td>3</td>\n",
       "      <td>10</td>\n",
       "      <td>SAM1-2</td>\n",
       "      <td>35</td>\n",
       "    </tr>\n",
       "    <tr>\n",
       "      <th>14</th>\n",
       "      <td>AML-EFC-NEW-ACT-A-001-CVA</td>\n",
       "      <td>2</td>\n",
       "      <td>11</td>\n",
       "      <td>SAM1-2</td>\n",
       "      <td>45</td>\n",
       "    </tr>\n",
       "    <tr>\n",
       "      <th>15</th>\n",
       "      <td>AML-EFC-NEW-ACT-A-001-CVA</td>\n",
       "      <td>1</td>\n",
       "      <td>12</td>\n",
       "      <td>SAM1-2</td>\n",
       "      <td>55</td>\n",
       "    </tr>\n",
       "    <tr>\n",
       "      <th>16</th>\n",
       "      <td>AML-TSD-EFT-ALL-A-S01-FSI</td>\n",
       "      <td>5</td>\n",
       "      <td>13</td>\n",
       "      <td>SAM1-2</td>\n",
       "      <td>40</td>\n",
       "    </tr>\n",
       "    <tr>\n",
       "      <th>17</th>\n",
       "      <td>AML-EFC-RSK-LVL-A-039-CVA</td>\n",
       "      <td>2</td>\n",
       "      <td>14</td>\n",
       "      <td>SAM1-2</td>\n",
       "      <td>60</td>\n",
       "    </tr>\n",
       "    <tr>\n",
       "      <th>18</th>\n",
       "      <td>AML-ULN-LNP-INN-A-LNB-DEL</td>\n",
       "      <td>2</td>\n",
       "      <td>15</td>\n",
       "      <td>SAM1-2</td>\n",
       "      <td>65</td>\n",
       "    </tr>\n",
       "    <tr>\n",
       "      <th>19</th>\n",
       "      <td>AML-SUS-SUR-FRE-A-M12-FRA</td>\n",
       "      <td>4</td>\n",
       "      <td>16</td>\n",
       "      <td>SAM1-2</td>\n",
       "      <td>60</td>\n",
       "    </tr>\n",
       "    <tr>\n",
       "      <th>20</th>\n",
       "      <td>AML-SRD-SIN-ALL-A-S01-CTY</td>\n",
       "      <td>5</td>\n",
       "      <td>17</td>\n",
       "      <td>SAM1-2</td>\n",
       "      <td>60</td>\n",
       "    </tr>\n",
       "    <tr>\n",
       "      <th>21</th>\n",
       "      <td>AML-OLN-LNP-INN-A-S01-DET</td>\n",
       "      <td>1</td>\n",
       "      <td>18</td>\n",
       "      <td>SAM1-2</td>\n",
       "      <td>85</td>\n",
       "    </tr>\n",
       "    <tr>\n",
       "      <th>22</th>\n",
       "      <td>AML-SIM-OSI-000-A-D30-MLA</td>\n",
       "      <td>2</td>\n",
       "      <td>19</td>\n",
       "      <td>SAM1-2</td>\n",
       "      <td>85</td>\n",
       "    </tr>\n",
       "    <tr>\n",
       "      <th>23</th>\n",
       "      <td>AML-TSD-EFT-ALL-A-S01-FSI</td>\n",
       "      <td>1</td>\n",
       "      <td>20</td>\n",
       "      <td>SAM1-2</td>\n",
       "      <td>95</td>\n",
       "    </tr>\n",
       "    <tr>\n",
       "      <th>24</th>\n",
       "      <td>AML-OLN-LNP-INN-A-S01-DEF</td>\n",
       "      <td>2</td>\n",
       "      <td>21</td>\n",
       "      <td>SAM1-2</td>\n",
       "      <td>95</td>\n",
       "    </tr>\n",
       "    <tr>\n",
       "      <th>25</th>\n",
       "      <td>AML-SIM-OSI-000-A-D30-MAN</td>\n",
       "      <td>3</td>\n",
       "      <td>22</td>\n",
       "      <td>SAM1-2</td>\n",
       "      <td>95</td>\n",
       "    </tr>\n",
       "    <tr>\n",
       "      <th>26</th>\n",
       "      <td>AML-EBB-IFT-ALL-A-D05-EOP</td>\n",
       "      <td>3</td>\n",
       "      <td>10</td>\n",
       "      <td>SAM1-3</td>\n",
       "      <td>35</td>\n",
       "    </tr>\n",
       "    <tr>\n",
       "      <th>27</th>\n",
       "      <td>AML-EFC-NEW-ACT-A-001-CVA</td>\n",
       "      <td>2</td>\n",
       "      <td>11</td>\n",
       "      <td>SAM1-3</td>\n",
       "      <td>45</td>\n",
       "    </tr>\n",
       "    <tr>\n",
       "      <th>28</th>\n",
       "      <td>AML-EFC-NEW-ACT-A-001-CVA</td>\n",
       "      <td>1</td>\n",
       "      <td>12</td>\n",
       "      <td>SAM1-3</td>\n",
       "      <td>55</td>\n",
       "    </tr>\n",
       "    <tr>\n",
       "      <th>29</th>\n",
       "      <td>AML-TSD-EFT-ALL-A-S01-FSI</td>\n",
       "      <td>5</td>\n",
       "      <td>13</td>\n",
       "      <td>SAM1-3</td>\n",
       "      <td>40</td>\n",
       "    </tr>\n",
       "    <tr>\n",
       "      <th>30</th>\n",
       "      <td>AML-TSD-EFT-ALL-A-S01-FSI</td>\n",
       "      <td>2</td>\n",
       "      <td>14</td>\n",
       "      <td>SAM1-3</td>\n",
       "      <td>60</td>\n",
       "    </tr>\n",
       "    <tr>\n",
       "      <th>31</th>\n",
       "      <td>AML-EFC-RSK-LVL-A-039-CVA</td>\n",
       "      <td>2</td>\n",
       "      <td>15</td>\n",
       "      <td>SAM1-3</td>\n",
       "      <td>65</td>\n",
       "    </tr>\n",
       "    <tr>\n",
       "      <th>32</th>\n",
       "      <td>AML-ULN-LNP-INN-A-LNB-DEL</td>\n",
       "      <td>4</td>\n",
       "      <td>16</td>\n",
       "      <td>SAM1-3</td>\n",
       "      <td>60</td>\n",
       "    </tr>\n",
       "    <tr>\n",
       "      <th>33</th>\n",
       "      <td>AML-SUS-SUR-FRE-A-M12-FRA</td>\n",
       "      <td>5</td>\n",
       "      <td>17</td>\n",
       "      <td>SAM1-3</td>\n",
       "      <td>60</td>\n",
       "    </tr>\n",
       "    <tr>\n",
       "      <th>34</th>\n",
       "      <td>AML-SRD-SIN-ALL-A-S01-CTY</td>\n",
       "      <td>1</td>\n",
       "      <td>18</td>\n",
       "      <td>SAM1-3</td>\n",
       "      <td>85</td>\n",
       "    </tr>\n",
       "    <tr>\n",
       "      <th>35</th>\n",
       "      <td>AML-OLN-LNP-INN-A-S01-DET</td>\n",
       "      <td>2</td>\n",
       "      <td>19</td>\n",
       "      <td>SAM1-3</td>\n",
       "      <td>85</td>\n",
       "    </tr>\n",
       "    <tr>\n",
       "      <th>36</th>\n",
       "      <td>AML-SIM-OSI-000-A-D30-MLA</td>\n",
       "      <td>1</td>\n",
       "      <td>20</td>\n",
       "      <td>SAM1-3</td>\n",
       "      <td>95</td>\n",
       "    </tr>\n",
       "    <tr>\n",
       "      <th>37</th>\n",
       "      <td>AML-TSD-EFT-ALL-A-S01-FSI</td>\n",
       "      <td>2</td>\n",
       "      <td>21</td>\n",
       "      <td>SAM1-3</td>\n",
       "      <td>95</td>\n",
       "    </tr>\n",
       "    <tr>\n",
       "      <th>38</th>\n",
       "      <td>AML-EFC-RSK-CTY-A-008-CLA</td>\n",
       "      <td>3</td>\n",
       "      <td>22</td>\n",
       "      <td>SAM1-3</td>\n",
       "      <td>95</td>\n",
       "    </tr>\n",
       "  </tbody>\n",
       "</table>\n",
       "</div>"
      ],
      "text/plain": [
       "                      RULE_ID  Avg Value  Threshhold ALERT_ID  Score\n",
       "0   AML-EBB-IFT-ALL-A-D05-EOP          3          10   SAM1-1     35\n",
       "1   AML-EFC-NEW-ACT-A-001-CVA          2          11   SAM1-1     45\n",
       "2   AML-EFC-NEW-ACT-A-001-CVA          1          12   SAM1-1     55\n",
       "3   AML-TSD-EFT-ALL-A-S01-FSI          5          13   SAM1-1     40\n",
       "4   AML-EFC-RSK-LVL-A-039-CVA          2          14   SAM1-1     60\n",
       "5   AML-ULN-LNP-INN-A-LNB-DEL          2          15   SAM1-1     65\n",
       "6   AML-SUS-SUR-FRE-A-M12-FRA          4          16   SAM1-1     60\n",
       "7   AML-SRD-SIN-ALL-A-S01-CTY          5          17   SAM1-1     60\n",
       "8   AML-OLN-LNP-INN-A-S01-DET          1          18   SAM1-1     85\n",
       "9   AML-SIM-OSI-000-A-D30-MLA          2          19   SAM1-1     85\n",
       "10  AML-TSD-EFT-ALL-A-S01-FSI          1          20   SAM1-1     95\n",
       "11  AML-EFC-RSK-CTY-A-008-CLA          2          21   SAM1-1     95\n",
       "12  AML-TSD-EFT-ALL-A-S01-FSI          3          22   SAM1-1     95\n",
       "13  AML-EBB-IFT-ALL-A-D05-EOP          3          10   SAM1-2     35\n",
       "14  AML-EFC-NEW-ACT-A-001-CVA          2          11   SAM1-2     45\n",
       "15  AML-EFC-NEW-ACT-A-001-CVA          1          12   SAM1-2     55\n",
       "16  AML-TSD-EFT-ALL-A-S01-FSI          5          13   SAM1-2     40\n",
       "17  AML-EFC-RSK-LVL-A-039-CVA          2          14   SAM1-2     60\n",
       "18  AML-ULN-LNP-INN-A-LNB-DEL          2          15   SAM1-2     65\n",
       "19  AML-SUS-SUR-FRE-A-M12-FRA          4          16   SAM1-2     60\n",
       "20  AML-SRD-SIN-ALL-A-S01-CTY          5          17   SAM1-2     60\n",
       "21  AML-OLN-LNP-INN-A-S01-DET          1          18   SAM1-2     85\n",
       "22  AML-SIM-OSI-000-A-D30-MLA          2          19   SAM1-2     85\n",
       "23  AML-TSD-EFT-ALL-A-S01-FSI          1          20   SAM1-2     95\n",
       "24  AML-OLN-LNP-INN-A-S01-DEF          2          21   SAM1-2     95\n",
       "25  AML-SIM-OSI-000-A-D30-MAN          3          22   SAM1-2     95\n",
       "26  AML-EBB-IFT-ALL-A-D05-EOP          3          10   SAM1-3     35\n",
       "27  AML-EFC-NEW-ACT-A-001-CVA          2          11   SAM1-3     45\n",
       "28  AML-EFC-NEW-ACT-A-001-CVA          1          12   SAM1-3     55\n",
       "29  AML-TSD-EFT-ALL-A-S01-FSI          5          13   SAM1-3     40\n",
       "30  AML-TSD-EFT-ALL-A-S01-FSI          2          14   SAM1-3     60\n",
       "31  AML-EFC-RSK-LVL-A-039-CVA          2          15   SAM1-3     65\n",
       "32  AML-ULN-LNP-INN-A-LNB-DEL          4          16   SAM1-3     60\n",
       "33  AML-SUS-SUR-FRE-A-M12-FRA          5          17   SAM1-3     60\n",
       "34  AML-SRD-SIN-ALL-A-S01-CTY          1          18   SAM1-3     85\n",
       "35  AML-OLN-LNP-INN-A-S01-DET          2          19   SAM1-3     85\n",
       "36  AML-SIM-OSI-000-A-D30-MLA          1          20   SAM1-3     95\n",
       "37  AML-TSD-EFT-ALL-A-S01-FSI          2          21   SAM1-3     95\n",
       "38  AML-EFC-RSK-CTY-A-008-CLA          3          22   SAM1-3     95"
      ]
     },
     "execution_count": 23,
     "metadata": {},
     "output_type": "execute_result"
    }
   ],
   "source": [
    "df"
   ]
  },
  {
   "cell_type": "code",
   "execution_count": 29,
   "id": "5b108361",
   "metadata": {},
   "outputs": [
    {
     "data": {
      "text/html": [
       "<div>\n",
       "<style scoped>\n",
       "    .dataframe tbody tr th:only-of-type {\n",
       "        vertical-align: middle;\n",
       "    }\n",
       "\n",
       "    .dataframe tbody tr th {\n",
       "        vertical-align: top;\n",
       "    }\n",
       "\n",
       "    .dataframe thead th {\n",
       "        text-align: right;\n",
       "    }\n",
       "</style>\n",
       "<table border=\"1\" class=\"dataframe\">\n",
       "  <thead>\n",
       "    <tr style=\"text-align: right;\">\n",
       "      <th></th>\n",
       "      <th>Avg Value</th>\n",
       "      <th>Threshhold</th>\n",
       "      <th>ALERT_ID</th>\n",
       "      <th>Score</th>\n",
       "    </tr>\n",
       "  </thead>\n",
       "  <tbody>\n",
       "    <tr>\n",
       "      <th>Avg Value</th>\n",
       "      <td>1.000000e+00</td>\n",
       "      <td>-1.230333e-01</td>\n",
       "      <td>-2.842874e-16</td>\n",
       "      <td>-0.292870</td>\n",
       "    </tr>\n",
       "    <tr>\n",
       "      <th>Threshhold</th>\n",
       "      <td>-1.230333e-01</td>\n",
       "      <td>1.000000e+00</td>\n",
       "      <td>-1.490896e-17</td>\n",
       "      <td>0.849981</td>\n",
       "    </tr>\n",
       "    <tr>\n",
       "      <th>ALERT_ID</th>\n",
       "      <td>-2.842874e-16</td>\n",
       "      <td>-1.490896e-17</td>\n",
       "      <td>1.000000e+00</td>\n",
       "      <td>-0.010768</td>\n",
       "    </tr>\n",
       "    <tr>\n",
       "      <th>Score</th>\n",
       "      <td>-2.928704e-01</td>\n",
       "      <td>8.499809e-01</td>\n",
       "      <td>-1.076845e-02</td>\n",
       "      <td>1.000000</td>\n",
       "    </tr>\n",
       "  </tbody>\n",
       "</table>\n",
       "</div>"
      ],
      "text/plain": [
       "               Avg Value    Threshhold      ALERT_ID     Score\n",
       "Avg Value   1.000000e+00 -1.230333e-01 -2.842874e-16 -0.292870\n",
       "Threshhold -1.230333e-01  1.000000e+00 -1.490896e-17  0.849981\n",
       "ALERT_ID   -2.842874e-16 -1.490896e-17  1.000000e+00 -0.010768\n",
       "Score      -2.928704e-01  8.499809e-01 -1.076845e-02  1.000000"
      ]
     },
     "execution_count": 29,
     "metadata": {},
     "output_type": "execute_result"
    }
   ],
   "source": [
    "df.corr()"
   ]
  },
  {
   "cell_type": "code",
   "execution_count": 30,
   "id": "aeececc0",
   "metadata": {},
   "outputs": [],
   "source": [
    "df1=pd.read_csv('ALERT-Issues.csv')"
   ]
  },
  {
   "cell_type": "code",
   "execution_count": 31,
   "id": "c6fff3b9",
   "metadata": {},
   "outputs": [
    {
     "data": {
      "text/html": [
       "<div>\n",
       "<style scoped>\n",
       "    .dataframe tbody tr th:only-of-type {\n",
       "        vertical-align: middle;\n",
       "    }\n",
       "\n",
       "    .dataframe tbody tr th {\n",
       "        vertical-align: top;\n",
       "    }\n",
       "\n",
       "    .dataframe thead th {\n",
       "        text-align: right;\n",
       "    }\n",
       "</style>\n",
       "<table border=\"1\" class=\"dataframe\">\n",
       "  <thead>\n",
       "    <tr style=\"text-align: right;\">\n",
       "      <th></th>\n",
       "      <th>ISSUE_KEY</th>\n",
       "      <th>SOLUTION_ID</th>\n",
       "      <th>RULE_ID</th>\n",
       "      <th>RULE_INSTANCE_ID</th>\n",
       "      <th>SCORE</th>\n",
       "      <th>ISSUE_BUSINESS_DATE</th>\n",
       "      <th>ISSUE_DATE_TIME</th>\n",
       "      <th>ISSUE_DESCRIPTION</th>\n",
       "      <th>TENANT_CD</th>\n",
       "      <th>SEGMENT</th>\n",
       "      <th>...</th>\n",
       "      <th>CUSTOM_MEDIUM_STRING_11</th>\n",
       "      <th>CUSTOM_MEDIUM_STRING_12</th>\n",
       "      <th>CUSTOM_MEDIUM_STRING_13</th>\n",
       "      <th>CUSTOM_MEDIUM_STRING_14</th>\n",
       "      <th>RULE_FP</th>\n",
       "      <th>EXECUTED_PROCESS_ID</th>\n",
       "      <th>ISSUE_TIMESTAMP</th>\n",
       "      <th>ISSUE_KEY.1</th>\n",
       "      <th>ALERT_ID</th>\n",
       "      <th>ALERT_DATE</th>\n",
       "    </tr>\n",
       "  </thead>\n",
       "  <tbody>\n",
       "    <tr>\n",
       "      <th>0</th>\n",
       "      <td>0dd88923-d922-451c-b54c-6810fe194a0e</td>\n",
       "      <td>AML-SAM</td>\n",
       "      <td>AML-EBB-IFT-ALL-A-D05-EOP</td>\n",
       "      <td>1</td>\n",
       "      <td>40</td>\n",
       "      <td>00:00.0</td>\n",
       "      <td>00:00.0</td>\n",
       "      <td>NaN</td>\n",
       "      <td>2000000</td>\n",
       "      <td>1.0</td>\n",
       "      <td>...</td>\n",
       "      <td>1</td>\n",
       "      <td>NaN</td>\n",
       "      <td>NaN</td>\n",
       "      <td>3.0</td>\n",
       "      <td>ca6115dcf471ac5b4efd4a8ad6c1311e</td>\n",
       "      <td>NaN</td>\n",
       "      <td>54:43.2</td>\n",
       "      <td>0dd88923-d922-451c-b54c-6810fe194a0e</td>\n",
       "      <td>SAM1-1</td>\n",
       "      <td>NaN</td>\n",
       "    </tr>\n",
       "    <tr>\n",
       "      <th>1</th>\n",
       "      <td>2bdc6ab0-da89-4e25-9fcb-2f34daecb8fe</td>\n",
       "      <td>AML-SAM</td>\n",
       "      <td>AML-EFC-NEW-ACT-A-001-CVA</td>\n",
       "      <td>1</td>\n",
       "      <td>20</td>\n",
       "      <td>00:00.0</td>\n",
       "      <td>00:00.0</td>\n",
       "      <td>NaN</td>\n",
       "      <td>2000000</td>\n",
       "      <td>NaN</td>\n",
       "      <td>...</td>\n",
       "      <td>NaN</td>\n",
       "      <td>NaN</td>\n",
       "      <td>NaN</td>\n",
       "      <td>NaN</td>\n",
       "      <td>6ff0c7d52cf06eca7bfe6e211f91d064</td>\n",
       "      <td>NaN</td>\n",
       "      <td>59:17.9</td>\n",
       "      <td>2bdc6ab0-da89-4e25-9fcb-2f34daecb8fe</td>\n",
       "      <td>SAM1-1</td>\n",
       "      <td>NaN</td>\n",
       "    </tr>\n",
       "    <tr>\n",
       "      <th>2</th>\n",
       "      <td>2fb2a504-c371-4f70-ad4e-a79c3eeab3dc</td>\n",
       "      <td>AML-SAM</td>\n",
       "      <td>AML-OLN-LNP-INN-A-M01-DEL</td>\n",
       "      <td>1</td>\n",
       "      <td>90</td>\n",
       "      <td>00:00.0</td>\n",
       "      <td>00:00.0</td>\n",
       "      <td>NaN</td>\n",
       "      <td>2000000</td>\n",
       "      <td>1.0</td>\n",
       "      <td>...</td>\n",
       "      <td>1LOANt2_500108</td>\n",
       "      <td>NaN</td>\n",
       "      <td>NaN</td>\n",
       "      <td>906.0</td>\n",
       "      <td>e28e7892e9dac725dd10f7c13804ff07</td>\n",
       "      <td>NaN</td>\n",
       "      <td>54:43.3</td>\n",
       "      <td>2fb2a504-c371-4f70-ad4e-a79c3eeab3dc</td>\n",
       "      <td>SAM1-1</td>\n",
       "      <td>NaN</td>\n",
       "    </tr>\n",
       "    <tr>\n",
       "      <th>3</th>\n",
       "      <td>3a749837-79cb-4e2f-a16a-5796943136eb</td>\n",
       "      <td>AML-SAM</td>\n",
       "      <td>AML-TSD-EFT-ALL-A-S01-FSI</td>\n",
       "      <td>1</td>\n",
       "      <td>40</td>\n",
       "      <td>00:00.0</td>\n",
       "      <td>00:00.0</td>\n",
       "      <td>NaN</td>\n",
       "      <td>2000000</td>\n",
       "      <td>1.0</td>\n",
       "      <td>...</td>\n",
       "      <td>t2_5159717</td>\n",
       "      <td>NaN</td>\n",
       "      <td>NaN</td>\n",
       "      <td>1681.0</td>\n",
       "      <td>5aec577cd4f26eea74c469f2d7bc81e4</td>\n",
       "      <td>NaN</td>\n",
       "      <td>54:45.8</td>\n",
       "      <td>3a749837-79cb-4e2f-a16a-5796943136eb</td>\n",
       "      <td>SAM1-1</td>\n",
       "      <td>NaN</td>\n",
       "    </tr>\n",
       "    <tr>\n",
       "      <th>4</th>\n",
       "      <td>4b8576a9-556c-4c3e-8f9b-22f7c1fdc6a2</td>\n",
       "      <td>AML-SAM</td>\n",
       "      <td>AML-EFC-RSK-LVL-A-039-CVA</td>\n",
       "      <td>1</td>\n",
       "      <td>30</td>\n",
       "      <td>00:00.0</td>\n",
       "      <td>00:00.0</td>\n",
       "      <td>NaN</td>\n",
       "      <td>2000000</td>\n",
       "      <td>NaN</td>\n",
       "      <td>...</td>\n",
       "      <td>NaN</td>\n",
       "      <td>NaN</td>\n",
       "      <td>NaN</td>\n",
       "      <td>NaN</td>\n",
       "      <td>fe549f31c6997a444fbba9cc4e947dfb</td>\n",
       "      <td>NaN</td>\n",
       "      <td>59:18.0</td>\n",
       "      <td>4b8576a9-556c-4c3e-8f9b-22f7c1fdc6a2</td>\n",
       "      <td>SAM1-1</td>\n",
       "      <td>NaN</td>\n",
       "    </tr>\n",
       "    <tr>\n",
       "      <th>...</th>\n",
       "      <td>...</td>\n",
       "      <td>...</td>\n",
       "      <td>...</td>\n",
       "      <td>...</td>\n",
       "      <td>...</td>\n",
       "      <td>...</td>\n",
       "      <td>...</td>\n",
       "      <td>...</td>\n",
       "      <td>...</td>\n",
       "      <td>...</td>\n",
       "      <td>...</td>\n",
       "      <td>...</td>\n",
       "      <td>...</td>\n",
       "      <td>...</td>\n",
       "      <td>...</td>\n",
       "      <td>...</td>\n",
       "      <td>...</td>\n",
       "      <td>...</td>\n",
       "      <td>...</td>\n",
       "      <td>...</td>\n",
       "      <td>...</td>\n",
       "    </tr>\n",
       "    <tr>\n",
       "      <th>5656</th>\n",
       "      <td>c6bfba22-d73f-4e81-8a52-c30b75536b83</td>\n",
       "      <td>AML-SAM</td>\n",
       "      <td>AML-EFC-NEW-ACT-A-001-CVA</td>\n",
       "      <td>1</td>\n",
       "      <td>20</td>\n",
       "      <td>00:00.0</td>\n",
       "      <td>00:00.0</td>\n",
       "      <td>NaN</td>\n",
       "      <td>2000000</td>\n",
       "      <td>NaN</td>\n",
       "      <td>...</td>\n",
       "      <td>NaN</td>\n",
       "      <td>NaN</td>\n",
       "      <td>NaN</td>\n",
       "      <td>NaN</td>\n",
       "      <td>6ff0c7d52cf06eca7bfe6e211f91d064</td>\n",
       "      <td>NaN</td>\n",
       "      <td>44:46.9</td>\n",
       "      <td>c6bfba22-d73f-4e81-8a52-c30b75536b83</td>\n",
       "      <td>SAM1-999</td>\n",
       "      <td>NaN</td>\n",
       "    </tr>\n",
       "    <tr>\n",
       "      <th>5657</th>\n",
       "      <td>ca24232c-c081-4f7f-8f38-a0bdf5c6f114</td>\n",
       "      <td>AML-SAM</td>\n",
       "      <td>AML-EFC-RSK-CTY-A-008-CLA</td>\n",
       "      <td>1</td>\n",
       "      <td>20</td>\n",
       "      <td>00:00.0</td>\n",
       "      <td>00:00.0</td>\n",
       "      <td>NaN</td>\n",
       "      <td>2000000</td>\n",
       "      <td>NaN</td>\n",
       "      <td>...</td>\n",
       "      <td>NaN</td>\n",
       "      <td>NaN</td>\n",
       "      <td>NaN</td>\n",
       "      <td>NaN</td>\n",
       "      <td>82fb4266c412ecf8bd6db1b59c069ec8</td>\n",
       "      <td>NaN</td>\n",
       "      <td>44:46.9</td>\n",
       "      <td>ca24232c-c081-4f7f-8f38-a0bdf5c6f114</td>\n",
       "      <td>SAM1-999</td>\n",
       "      <td>NaN</td>\n",
       "    </tr>\n",
       "    <tr>\n",
       "      <th>5658</th>\n",
       "      <td>de47fca5-c97b-4db9-989c-ab357dd600b9</td>\n",
       "      <td>AML-SAM</td>\n",
       "      <td>AML-OLN-LNP-INN-A-S01-DET</td>\n",
       "      <td>1</td>\n",
       "      <td>90</td>\n",
       "      <td>00:00.0</td>\n",
       "      <td>00:00.0</td>\n",
       "      <td>NaN</td>\n",
       "      <td>2000000</td>\n",
       "      <td>1.0</td>\n",
       "      <td>...</td>\n",
       "      <td>t2_9160599</td>\n",
       "      <td>NaN</td>\n",
       "      <td>NaN</td>\n",
       "      <td>4592.0</td>\n",
       "      <td>5e9ebe12451242454065684337289a22</td>\n",
       "      <td>NaN</td>\n",
       "      <td>42:14.6</td>\n",
       "      <td>de47fca5-c97b-4db9-989c-ab357dd600b9</td>\n",
       "      <td>SAM1-999</td>\n",
       "      <td>NaN</td>\n",
       "    </tr>\n",
       "    <tr>\n",
       "      <th>5659</th>\n",
       "      <td>ea6ffd41-1b54-4b63-b535-68e4d63ef7cb</td>\n",
       "      <td>AML-SAM</td>\n",
       "      <td>AML-OLN-LNP-INN-A-M01-DEL</td>\n",
       "      <td>1</td>\n",
       "      <td>100</td>\n",
       "      <td>00:00.0</td>\n",
       "      <td>00:00.0</td>\n",
       "      <td>NaN</td>\n",
       "      <td>2000000</td>\n",
       "      <td>1.0</td>\n",
       "      <td>...</td>\n",
       "      <td>1LOANt2_500108</td>\n",
       "      <td>NaN</td>\n",
       "      <td>NaN</td>\n",
       "      <td>4247.0</td>\n",
       "      <td>e28e7892e9dac725dd10f7c13804ff07</td>\n",
       "      <td>NaN</td>\n",
       "      <td>42:14.5</td>\n",
       "      <td>ea6ffd41-1b54-4b63-b535-68e4d63ef7cb</td>\n",
       "      <td>SAM1-999</td>\n",
       "      <td>NaN</td>\n",
       "    </tr>\n",
       "    <tr>\n",
       "      <th>5660</th>\n",
       "      <td>f8e808a3-9bc5-4ef8-b797-8ec710483b1d</td>\n",
       "      <td>AML-SAM</td>\n",
       "      <td>AML-EFC-RSK-LVL-A-039-CVA</td>\n",
       "      <td>1</td>\n",
       "      <td>30</td>\n",
       "      <td>00:00.0</td>\n",
       "      <td>00:00.0</td>\n",
       "      <td>NaN</td>\n",
       "      <td>2000000</td>\n",
       "      <td>NaN</td>\n",
       "      <td>...</td>\n",
       "      <td>NaN</td>\n",
       "      <td>NaN</td>\n",
       "      <td>NaN</td>\n",
       "      <td>NaN</td>\n",
       "      <td>fe549f31c6997a444fbba9cc4e947dfb</td>\n",
       "      <td>NaN</td>\n",
       "      <td>44:47.0</td>\n",
       "      <td>f8e808a3-9bc5-4ef8-b797-8ec710483b1d</td>\n",
       "      <td>SAM1-999</td>\n",
       "      <td>NaN</td>\n",
       "    </tr>\n",
       "  </tbody>\n",
       "</table>\n",
       "<p>5661 rows × 66 columns</p>\n",
       "</div>"
      ],
      "text/plain": [
       "                                 ISSUE_KEY SOLUTION_ID  \\\n",
       "0     0dd88923-d922-451c-b54c-6810fe194a0e     AML-SAM   \n",
       "1     2bdc6ab0-da89-4e25-9fcb-2f34daecb8fe     AML-SAM   \n",
       "2     2fb2a504-c371-4f70-ad4e-a79c3eeab3dc     AML-SAM   \n",
       "3     3a749837-79cb-4e2f-a16a-5796943136eb     AML-SAM   \n",
       "4     4b8576a9-556c-4c3e-8f9b-22f7c1fdc6a2     AML-SAM   \n",
       "...                                    ...         ...   \n",
       "5656  c6bfba22-d73f-4e81-8a52-c30b75536b83     AML-SAM   \n",
       "5657  ca24232c-c081-4f7f-8f38-a0bdf5c6f114     AML-SAM   \n",
       "5658  de47fca5-c97b-4db9-989c-ab357dd600b9     AML-SAM   \n",
       "5659  ea6ffd41-1b54-4b63-b535-68e4d63ef7cb     AML-SAM   \n",
       "5660  f8e808a3-9bc5-4ef8-b797-8ec710483b1d     AML-SAM   \n",
       "\n",
       "                        RULE_ID  RULE_INSTANCE_ID  SCORE ISSUE_BUSINESS_DATE  \\\n",
       "0     AML-EBB-IFT-ALL-A-D05-EOP                 1     40             00:00.0   \n",
       "1     AML-EFC-NEW-ACT-A-001-CVA                 1     20             00:00.0   \n",
       "2     AML-OLN-LNP-INN-A-M01-DEL                 1     90             00:00.0   \n",
       "3     AML-TSD-EFT-ALL-A-S01-FSI                 1     40             00:00.0   \n",
       "4     AML-EFC-RSK-LVL-A-039-CVA                 1     30             00:00.0   \n",
       "...                         ...               ...    ...                 ...   \n",
       "5656  AML-EFC-NEW-ACT-A-001-CVA                 1     20             00:00.0   \n",
       "5657  AML-EFC-RSK-CTY-A-008-CLA                 1     20             00:00.0   \n",
       "5658  AML-OLN-LNP-INN-A-S01-DET                 1     90             00:00.0   \n",
       "5659  AML-OLN-LNP-INN-A-M01-DEL                 1    100             00:00.0   \n",
       "5660  AML-EFC-RSK-LVL-A-039-CVA                 1     30             00:00.0   \n",
       "\n",
       "     ISSUE_DATE_TIME  ISSUE_DESCRIPTION  TENANT_CD  SEGMENT  ...  \\\n",
       "0            00:00.0                NaN    2000000      1.0  ...   \n",
       "1            00:00.0                NaN    2000000      NaN  ...   \n",
       "2            00:00.0                NaN    2000000      1.0  ...   \n",
       "3            00:00.0                NaN    2000000      1.0  ...   \n",
       "4            00:00.0                NaN    2000000      NaN  ...   \n",
       "...              ...                ...        ...      ...  ...   \n",
       "5656         00:00.0                NaN    2000000      NaN  ...   \n",
       "5657         00:00.0                NaN    2000000      NaN  ...   \n",
       "5658         00:00.0                NaN    2000000      1.0  ...   \n",
       "5659         00:00.0                NaN    2000000      1.0  ...   \n",
       "5660         00:00.0                NaN    2000000      NaN  ...   \n",
       "\n",
       "      CUSTOM_MEDIUM_STRING_11  CUSTOM_MEDIUM_STRING_12  \\\n",
       "0                           1                      NaN   \n",
       "1                         NaN                      NaN   \n",
       "2              1LOANt2_500108                      NaN   \n",
       "3                  t2_5159717                      NaN   \n",
       "4                         NaN                      NaN   \n",
       "...                       ...                      ...   \n",
       "5656                      NaN                      NaN   \n",
       "5657                      NaN                      NaN   \n",
       "5658               t2_9160599                      NaN   \n",
       "5659           1LOANt2_500108                      NaN   \n",
       "5660                      NaN                      NaN   \n",
       "\n",
       "     CUSTOM_MEDIUM_STRING_13  CUSTOM_MEDIUM_STRING_14  \\\n",
       "0                        NaN                      3.0   \n",
       "1                        NaN                      NaN   \n",
       "2                        NaN                    906.0   \n",
       "3                        NaN                   1681.0   \n",
       "4                        NaN                      NaN   \n",
       "...                      ...                      ...   \n",
       "5656                     NaN                      NaN   \n",
       "5657                     NaN                      NaN   \n",
       "5658                     NaN                   4592.0   \n",
       "5659                     NaN                   4247.0   \n",
       "5660                     NaN                      NaN   \n",
       "\n",
       "                               RULE_FP  EXECUTED_PROCESS_ID ISSUE_TIMESTAMP  \\\n",
       "0     ca6115dcf471ac5b4efd4a8ad6c1311e                  NaN         54:43.2   \n",
       "1     6ff0c7d52cf06eca7bfe6e211f91d064                  NaN         59:17.9   \n",
       "2     e28e7892e9dac725dd10f7c13804ff07                  NaN         54:43.3   \n",
       "3     5aec577cd4f26eea74c469f2d7bc81e4                  NaN         54:45.8   \n",
       "4     fe549f31c6997a444fbba9cc4e947dfb                  NaN         59:18.0   \n",
       "...                                ...                  ...             ...   \n",
       "5656  6ff0c7d52cf06eca7bfe6e211f91d064                  NaN         44:46.9   \n",
       "5657  82fb4266c412ecf8bd6db1b59c069ec8                  NaN         44:46.9   \n",
       "5658  5e9ebe12451242454065684337289a22                  NaN         42:14.6   \n",
       "5659  e28e7892e9dac725dd10f7c13804ff07                  NaN         42:14.5   \n",
       "5660  fe549f31c6997a444fbba9cc4e947dfb                  NaN         44:47.0   \n",
       "\n",
       "                               ISSUE_KEY.1  ALERT_ID  ALERT_DATE  \n",
       "0     0dd88923-d922-451c-b54c-6810fe194a0e    SAM1-1         NaN  \n",
       "1     2bdc6ab0-da89-4e25-9fcb-2f34daecb8fe    SAM1-1         NaN  \n",
       "2     2fb2a504-c371-4f70-ad4e-a79c3eeab3dc    SAM1-1         NaN  \n",
       "3     3a749837-79cb-4e2f-a16a-5796943136eb    SAM1-1         NaN  \n",
       "4     4b8576a9-556c-4c3e-8f9b-22f7c1fdc6a2    SAM1-1         NaN  \n",
       "...                                    ...       ...         ...  \n",
       "5656  c6bfba22-d73f-4e81-8a52-c30b75536b83  SAM1-999         NaN  \n",
       "5657  ca24232c-c081-4f7f-8f38-a0bdf5c6f114  SAM1-999         NaN  \n",
       "5658  de47fca5-c97b-4db9-989c-ab357dd600b9  SAM1-999         NaN  \n",
       "5659  ea6ffd41-1b54-4b63-b535-68e4d63ef7cb  SAM1-999         NaN  \n",
       "5660  f8e808a3-9bc5-4ef8-b797-8ec710483b1d  SAM1-999         NaN  \n",
       "\n",
       "[5661 rows x 66 columns]"
      ]
     },
     "execution_count": 31,
     "metadata": {},
     "output_type": "execute_result"
    }
   ],
   "source": [
    "df1"
   ]
  },
  {
   "cell_type": "code",
   "execution_count": 36,
   "id": "3c265336",
   "metadata": {
    "scrolled": false
   },
   "outputs": [
    {
     "data": {
      "text/plain": [
       "Text(0, 0.5, 'Predicted Values')"
      ]
     },
     "execution_count": 36,
     "metadata": {},
     "output_type": "execute_result"
    },
    {
     "data": {
      "image/png": "[encoded data removed]",
      "text/plain": [
       "<Figure size 432x288 with 1 Axes>"
      ]
     },
     "metadata": {
      "needs_background": "light"
     },
     "output_type": "display_data"
    }
   ],
   "source": [
    "x=df1['SCORE']\n",
    "y=df1['ALERT_ID']\n",
    "plt.scatter(x,y,marker='+',color='r')\n",
    "plt.xlabel('Y Test')\n",
    "plt.ylabel('Predicted Values')"
   ]
  },
  {
   "cell_type": "code",
   "execution_count": 4,
   "id": "a26fb9ac",
   "metadata": {},
   "outputs": [],
   "source": [
    "df=pd.read_csv('Alert.csv')"
   ]
  },
  {
   "cell_type": "code",
   "execution_count": 21,
   "id": "35c2b8c3",
   "metadata": {},
   "outputs": [
    {
     "data": {
      "text/html": [
       "<div>\n",
       "<style scoped>\n",
       "    .dataframe tbody tr th:only-of-type {\n",
       "        vertical-align: middle;\n",
       "    }\n",
       "\n",
       "    .dataframe tbody tr th {\n",
       "        vertical-align: top;\n",
       "    }\n",
       "\n",
       "    .dataframe thead th {\n",
       "        text-align: right;\n",
       "    }\n",
       "</style>\n",
       "<table border=\"1\" class=\"dataframe\">\n",
       "  <thead>\n",
       "    <tr style=\"text-align: right;\">\n",
       "      <th></th>\n",
       "      <th>RULE_ID</th>\n",
       "      <th>Avg Value</th>\n",
       "      <th>Threshhold</th>\n",
       "      <th>ALERT_ID</th>\n",
       "      <th>Score</th>\n",
       "    </tr>\n",
       "  </thead>\n",
       "  <tbody>\n",
       "    <tr>\n",
       "      <th>0</th>\n",
       "      <td>200</td>\n",
       "      <td>3</td>\n",
       "      <td>10</td>\n",
       "      <td>1</td>\n",
       "      <td>35</td>\n",
       "    </tr>\n",
       "    <tr>\n",
       "      <th>1</th>\n",
       "      <td>201</td>\n",
       "      <td>2</td>\n",
       "      <td>11</td>\n",
       "      <td>1</td>\n",
       "      <td>45</td>\n",
       "    </tr>\n",
       "    <tr>\n",
       "      <th>2</th>\n",
       "      <td>202</td>\n",
       "      <td>1</td>\n",
       "      <td>12</td>\n",
       "      <td>1</td>\n",
       "      <td>55</td>\n",
       "    </tr>\n",
       "    <tr>\n",
       "      <th>3</th>\n",
       "      <td>203</td>\n",
       "      <td>2</td>\n",
       "      <td>21</td>\n",
       "      <td>1</td>\n",
       "      <td>95</td>\n",
       "    </tr>\n",
       "    <tr>\n",
       "      <th>4</th>\n",
       "      <td>204</td>\n",
       "      <td>2</td>\n",
       "      <td>14</td>\n",
       "      <td>1</td>\n",
       "      <td>60</td>\n",
       "    </tr>\n",
       "  </tbody>\n",
       "</table>\n",
       "</div>"
      ],
      "text/plain": [
       "   RULE_ID  Avg Value  Threshhold  ALERT_ID  Score\n",
       "0      200          3          10         1     35\n",
       "1      201          2          11         1     45\n",
       "2      202          1          12         1     55\n",
       "3      203          2          21         1     95\n",
       "4      204          2          14         1     60"
      ]
     },
     "execution_count": 21,
     "metadata": {},
     "output_type": "execute_result"
    }
   ],
   "source": [
    "df.head()"
   ]
  },
  {
   "cell_type": "code",
   "execution_count": 22,
   "id": "f86c008b",
   "metadata": {},
   "outputs": [
    {
     "data": {
      "text/html": [
       "<div>\n",
       "<style scoped>\n",
       "    .dataframe tbody tr th:only-of-type {\n",
       "        vertical-align: middle;\n",
       "    }\n",
       "\n",
       "    .dataframe tbody tr th {\n",
       "        vertical-align: top;\n",
       "    }\n",
       "\n",
       "    .dataframe thead th {\n",
       "        text-align: right;\n",
       "    }\n",
       "</style>\n",
       "<table border=\"1\" class=\"dataframe\">\n",
       "  <thead>\n",
       "    <tr style=\"text-align: right;\">\n",
       "      <th></th>\n",
       "      <th>RULE_ID</th>\n",
       "      <th>Avg Value</th>\n",
       "      <th>Threshhold</th>\n",
       "      <th>ALERT_ID</th>\n",
       "      <th>Score</th>\n",
       "    </tr>\n",
       "  </thead>\n",
       "  <tbody>\n",
       "    <tr>\n",
       "      <th>count</th>\n",
       "      <td>40.000000</td>\n",
       "      <td>40.000000</td>\n",
       "      <td>40.000000</td>\n",
       "      <td>40.000000</td>\n",
       "      <td>40.000000</td>\n",
       "    </tr>\n",
       "    <tr>\n",
       "      <th>mean</th>\n",
       "      <td>215.150000</td>\n",
       "      <td>2.975000</td>\n",
       "      <td>16.025000</td>\n",
       "      <td>2.450000</td>\n",
       "      <td>65.825000</td>\n",
       "    </tr>\n",
       "    <tr>\n",
       "      <th>std</th>\n",
       "      <td>8.514091</td>\n",
       "      <td>1.804375</td>\n",
       "      <td>3.661914</td>\n",
       "      <td>1.108244</td>\n",
       "      <td>19.369402</td>\n",
       "    </tr>\n",
       "    <tr>\n",
       "      <th>min</th>\n",
       "      <td>200.000000</td>\n",
       "      <td>1.000000</td>\n",
       "      <td>10.000000</td>\n",
       "      <td>1.000000</td>\n",
       "      <td>35.000000</td>\n",
       "    </tr>\n",
       "    <tr>\n",
       "      <th>25%</th>\n",
       "      <td>208.000000</td>\n",
       "      <td>2.000000</td>\n",
       "      <td>13.000000</td>\n",
       "      <td>1.750000</td>\n",
       "      <td>55.000000</td>\n",
       "    </tr>\n",
       "    <tr>\n",
       "      <th>50%</th>\n",
       "      <td>215.500000</td>\n",
       "      <td>2.000000</td>\n",
       "      <td>16.500000</td>\n",
       "      <td>2.000000</td>\n",
       "      <td>60.000000</td>\n",
       "    </tr>\n",
       "    <tr>\n",
       "      <th>75%</th>\n",
       "      <td>222.250000</td>\n",
       "      <td>4.250000</td>\n",
       "      <td>19.000000</td>\n",
       "      <td>3.000000</td>\n",
       "      <td>85.000000</td>\n",
       "    </tr>\n",
       "    <tr>\n",
       "      <th>max</th>\n",
       "      <td>230.000000</td>\n",
       "      <td>8.000000</td>\n",
       "      <td>22.000000</td>\n",
       "      <td>4.000000</td>\n",
       "      <td>95.000000</td>\n",
       "    </tr>\n",
       "  </tbody>\n",
       "</table>\n",
       "</div>"
      ],
      "text/plain": [
       "          RULE_ID  Avg Value  Threshhold   ALERT_ID      Score\n",
       "count   40.000000  40.000000   40.000000  40.000000  40.000000\n",
       "mean   215.150000   2.975000   16.025000   2.450000  65.825000\n",
       "std      8.514091   1.804375    3.661914   1.108244  19.369402\n",
       "min    200.000000   1.000000   10.000000   1.000000  35.000000\n",
       "25%    208.000000   2.000000   13.000000   1.750000  55.000000\n",
       "50%    215.500000   2.000000   16.500000   2.000000  60.000000\n",
       "75%    222.250000   4.250000   19.000000   3.000000  85.000000\n",
       "max    230.000000   8.000000   22.000000   4.000000  95.000000"
      ]
     },
     "execution_count": 22,
     "metadata": {},
     "output_type": "execute_result"
    }
   ],
   "source": [
    "df.describe()"
   ]
  },
  {
   "cell_type": "code",
   "execution_count": 23,
   "id": "72a847b7",
   "metadata": {},
   "outputs": [
    {
     "name": "stdout",
     "output_type": "stream",
     "text": [
      "<class 'pandas.core.frame.DataFrame'>\n",
      "RangeIndex: 40 entries, 0 to 39\n",
      "Data columns (total 5 columns):\n",
      " #   Column      Non-Null Count  Dtype\n",
      "---  ------      --------------  -----\n",
      " 0   RULE_ID     40 non-null     int64\n",
      " 1   Avg Value   40 non-null     int64\n",
      " 2   Threshhold  40 non-null     int64\n",
      " 3   ALERT_ID    40 non-null     int64\n",
      " 4   Score       40 non-null     int64\n",
      "dtypes: int64(5)\n",
      "memory usage: 1.7 KB\n"
     ]
    }
   ],
   "source": [
    "df.info()"
   ]
  },
  {
   "cell_type": "code",
   "execution_count": 49,
   "id": "e9933049",
   "metadata": {},
   "outputs": [],
   "source": [
    "x_ticks = [200,205,210,215,220,225,230]\n",
    "x1 = df[df['ALERT_ID']==1]['ALERT_ID']\n",
    "y1 = df[df['ALERT_ID']==1]['RULE_ID']\n",
    "x2 = df[df['ALERT_ID']==2]['ALERT_ID']\n",
    "y2 = df[df['ALERT_ID']==2]['RULE_ID']\n",
    "x3 = df[df['ALERT_ID']==3]['ALERT_ID']\n",
    "y3 = df[df['ALERT_ID']==3][\"RULE_ID\"]\n",
    "x4 = df[df['ALERT_ID']==4]['ALERT_ID']\n",
    "y4 = df[df['ALERT_ID']==4][\"RULE_ID\"]"
   ]
  },
  {
   "cell_type": "code",
   "execution_count": 51,
   "id": "92cf16c0",
   "metadata": {},
   "outputs": [
    {
     "data": {
      "image/png": "[encoded data removed]",
      "text/plain": [
       "<Figure size 432x288 with 1 Axes>"
      ]
     },
     "metadata": {
      "needs_background": "light"
     },
     "output_type": "display_data"
    }
   ],
   "source": [
    "plt.scatter(y1, x1, marker='+',label=\"SAM1-1\")\n",
    "plt.scatter(y2, x2, marker='o',label=\"SAM1-2\")\n",
    "plt.scatter(y3, x3, marker='*',label=\"SAM1-3\")\n",
    "plt.scatter(y4, x4, marker='+',label=\"SAM1-4\")\n",
    "plt.xlabel(\"RULE_ID\")\n",
    "plt.ylabel(\"ALERT\")\n",
    "plt.xticks(x_ticks)\n",
    "y_ticks = np.arange(1, 5, 1)\n",
    "plt.yticks(y_ticks)\n",
    "plt.legend()\n",
    "plt.show()"
   ]
  },
  {
   "cell_type": "code",
   "execution_count": 28,
   "id": "4d0a8222",
   "metadata": {},
   "outputs": [],
   "source": [
    "x=df[['RULE_ID']]\n",
    "y=df['ALERT_ID']"
   ]
  },
  {
   "cell_type": "code",
   "execution_count": 29,
   "id": "fc15beac",
   "metadata": {},
   "outputs": [],
   "source": [
    "from sklearn.model_selection import train_test_split"
   ]
  },
  {
   "cell_type": "code",
   "execution_count": 30,
   "id": "3da39ed1",
   "metadata": {},
   "outputs": [],
   "source": [
    "x_train,x_test,y_train,y_test=train_test_split(x,y,test_size=0.2)"
   ]
  },
  {
   "cell_type": "code",
   "execution_count": 31,
   "id": "509e9d33",
   "metadata": {},
   "outputs": [
    {
     "data": {
      "text/plain": [
       "32"
      ]
     },
     "execution_count": 31,
     "metadata": {},
     "output_type": "execute_result"
    }
   ],
   "source": [
    "len(x_train) #80 %"
   ]
  },
  {
   "cell_type": "code",
   "execution_count": 32,
   "id": "c3975a84",
   "metadata": {},
   "outputs": [
    {
     "data": {
      "text/plain": [
       "8"
      ]
     },
     "execution_count": 32,
     "metadata": {},
     "output_type": "execute_result"
    }
   ],
   "source": [
    "len(x_test) #20 %"
   ]
  },
  {
   "cell_type": "code",
   "execution_count": 33,
   "id": "7818fc2c",
   "metadata": {},
   "outputs": [],
   "source": [
    "clf=linear_model.LinearRegression()"
   ]
  },
  {
   "cell_type": "code",
   "execution_count": 34,
   "id": "557c939b",
   "metadata": {},
   "outputs": [
    {
     "data": {
      "text/plain": [
       "LinearRegression()"
      ]
     },
     "execution_count": 34,
     "metadata": {},
     "output_type": "execute_result"
    }
   ],
   "source": [
    "clf.fit(x_train,y_train)"
   ]
  },
  {
   "cell_type": "code",
   "execution_count": 35,
   "id": "9a47d7ea",
   "metadata": {},
   "outputs": [
    {
     "data": {
      "text/plain": [
       "array([3.01948077, 0.674548  , 1.90872315, 2.89606326, 2.03214066,\n",
       "       4.00682089, 2.52581072, 2.77264575])"
      ]
     },
     "execution_count": 35,
     "metadata": {},
     "output_type": "execute_result"
    }
   ],
   "source": [
    "clf.predict(x_test)"
   ]
  },
  {
   "cell_type": "code",
   "execution_count": 36,
   "id": "5586ec0f",
   "metadata": {},
   "outputs": [
    {
     "data": {
      "text/plain": [
       "26    3\n",
       "1     1\n",
       "14    2\n",
       "25    3\n",
       "15    2\n",
       "37    4\n",
       "22    3\n",
       "24    3\n",
       "Name: ALERT_ID, dtype: int64"
      ]
     },
     "execution_count": 36,
     "metadata": {},
     "output_type": "execute_result"
    }
   ],
   "source": [
    "y_test"
   ]
  },
  {
   "cell_type": "code",
   "execution_count": 52,
   "id": "37af2e9e",
   "metadata": {},
   "outputs": [
    {
     "data": {
      "text/plain": [
       "93.13944181249484"
      ]
     },
     "execution_count": 52,
     "metadata": {},
     "output_type": "execute_result"
    }
   ],
   "source": [
    "clf.score(x_test,y_test)*100 #Highest Accuracy"
   ]
  },
  {
   "cell_type": "code",
   "execution_count": 5,
   "id": "14338d74",
   "metadata": {},
   "outputs": [],
   "source": [
    "features = df.iloc[:, 0:1]"
   ]
  },
  {
   "cell_type": "code",
   "execution_count": 6,
   "id": "25f9fbb9",
   "metadata": {},
   "outputs": [
    {
     "data": {
      "text/html": [
       "<div>\n",
       "<style scoped>\n",
       "    .dataframe tbody tr th:only-of-type {\n",
       "        vertical-align: middle;\n",
       "    }\n",
       "\n",
       "    .dataframe tbody tr th {\n",
       "        vertical-align: top;\n",
       "    }\n",
       "\n",
       "    .dataframe thead th {\n",
       "        text-align: right;\n",
       "    }\n",
       "</style>\n",
       "<table border=\"1\" class=\"dataframe\">\n",
       "  <thead>\n",
       "    <tr style=\"text-align: right;\">\n",
       "      <th></th>\n",
       "      <th>RULE_ID</th>\n",
       "    </tr>\n",
       "  </thead>\n",
       "  <tbody>\n",
       "    <tr>\n",
       "      <th>0</th>\n",
       "      <td>200</td>\n",
       "    </tr>\n",
       "    <tr>\n",
       "      <th>1</th>\n",
       "      <td>201</td>\n",
       "    </tr>\n",
       "    <tr>\n",
       "      <th>2</th>\n",
       "      <td>202</td>\n",
       "    </tr>\n",
       "    <tr>\n",
       "      <th>3</th>\n",
       "      <td>203</td>\n",
       "    </tr>\n",
       "    <tr>\n",
       "      <th>4</th>\n",
       "      <td>204</td>\n",
       "    </tr>\n",
       "  </tbody>\n",
       "</table>\n",
       "</div>"
      ],
      "text/plain": [
       "   RULE_ID\n",
       "0      200\n",
       "1      201\n",
       "2      202\n",
       "3      203\n",
       "4      204"
      ]
     },
     "execution_count": 6,
     "metadata": {},
     "output_type": "execute_result"
    }
   ],
   "source": [
    "features.head()"
   ]
  },
  {
   "cell_type": "code",
   "execution_count": 7,
   "id": "c368a4de",
   "metadata": {},
   "outputs": [],
   "source": [
    "target = df.iloc[:, -1]"
   ]
  },
  {
   "cell_type": "code",
   "execution_count": 8,
   "id": "e732a0aa",
   "metadata": {},
   "outputs": [
    {
     "data": {
      "text/plain": [
       "0    SAM-1\n",
       "1    SAM-1\n",
       "2    SAM-1\n",
       "3    SAM-1\n",
       "4    SAM-1\n",
       "Name: Alert, dtype: object"
      ]
     },
     "execution_count": 8,
     "metadata": {},
     "output_type": "execute_result"
    }
   ],
   "source": [
    "target.head()"
   ]
  },
  {
   "cell_type": "code",
   "execution_count": 10,
   "id": "bbaa65f4",
   "metadata": {},
   "outputs": [
    {
     "name": "stdout",
     "output_type": "stream",
     "text": [
      "The Initial DataFrame Contained 40 Rows And 6 Columns\n",
      "The Features Matrix Contains 40 Rows And 1 Columns\n",
      "The Target Vector Contains 40 Rows And 1 Columns\n"
     ]
    }
   ],
   "source": [
    "print('The Initial DataFrame Contained %d Rows And %d Columns'%(df.shape))\n",
    "\n",
    "print('The Features Matrix Contains %d Rows And %d Columns'%(features.shape))\n",
    "\n",
    "print('The Target Vector Contains %d Rows And %d Columns'%(np.array(target).reshape(-1, 1).shape))"
   ]
  },
  {
   "cell_type": "code",
   "execution_count": 11,
   "id": "b703a2db",
   "metadata": {},
   "outputs": [],
   "source": [
    "from sklearn.naive_bayes import GaussianNB\n",
    "algorithm = GaussianNB(priors=None, var_smoothing=1e-9)"
   ]
  },
  {
   "cell_type": "code",
   "execution_count": 12,
   "id": "e37962ad",
   "metadata": {},
   "outputs": [
    {
     "data": {
      "text/plain": [
       "GaussianNB()"
      ]
     },
     "execution_count": 12,
     "metadata": {},
     "output_type": "execute_result"
    }
   ],
   "source": [
    "algorithm.fit(features, target)"
   ]
  },
  {
   "cell_type": "code",
   "execution_count": 13,
   "id": "7128352a",
   "metadata": {},
   "outputs": [
    {
     "name": "stdout",
     "output_type": "stream",
     "text": [
      "['SAM-1' 'SAM-2' 'SAM-3' 'SAM-4']\n"
     ]
    }
   ],
   "source": [
    "print(algorithm.classes_)"
   ]
  },
  {
   "cell_type": "code",
   "execution_count": 15,
   "id": "09e24c27",
   "metadata": {},
   "outputs": [
    {
     "name": "stdout",
     "output_type": "stream",
     "text": [
      "The Gaussian Model Has Achieved 0.78 Percent Accuracy\n"
     ]
    }
   ],
   "source": [
    "print('The Gaussian Model Has Achieved %.2f Percent Accuracy'%(algorithm.score(features, target)))"
   ]
  },
  {
   "cell_type": "code",
   "execution_count": 19,
   "id": "7528d3d6",
   "metadata": {},
   "outputs": [],
   "source": [
    "observation = [[205]]"
   ]
  },
  {
   "cell_type": "code",
   "execution_count": 20,
   "id": "b68fa9fd",
   "metadata": {},
   "outputs": [],
   "source": [
    "predictions=algorithm.predict(observation)"
   ]
  },
  {
   "cell_type": "code",
   "execution_count": 21,
   "id": "f648b6ea",
   "metadata": {},
   "outputs": [
    {
     "data": {
      "text/plain": [
       "array(['SAM-1'], dtype='<U5')"
      ]
     },
     "execution_count": 21,
     "metadata": {},
     "output_type": "execute_result"
    }
   ],
   "source": [
    "predictions"
   ]
  },
  {
   "cell_type": "code",
   "execution_count": null,
   "id": "ef277554",
   "metadata": {},
   "outputs": [],
   "source": []
  }
 ],
 "metadata": {
  "kernelspec": {
   "display_name": "Python 3 (ipykernel)",
   "language": "python",
   "name": "python3"
  },
  "language_info": {
   "codemirror_mode": {
    "name": "ipython",
    "version": 3
   },
   "file_extension": ".py",
   "mimetype": "text/x-python",
   "name": "python",
   "nbconvert_exporter": "python",
   "pygments_lexer": "ipython3",
   "version": "3.9.7"
  }
 },
 "nbformat": 4,
 "nbformat_minor": 5
}
